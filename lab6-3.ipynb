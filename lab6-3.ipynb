{
 "cells": [
  {
   "cell_type": "markdown",
   "id": "6149d2f7",
   "metadata": {},
   "source": [
    "## import libraries "
   ]
  },
  {
   "cell_type": "code",
   "execution_count": 19,
   "id": "858fe644",
   "metadata": {
    "scrolled": true
   },
   "outputs": [],
   "source": [
    "import pandas\n",
    "import configparser\n",
    "import psycopg2"
   ]
  },
  {
   "cell_type": "code",
   "execution_count": 20,
   "id": "6a833a60",
   "metadata": {},
   "outputs": [],
   "source": [
    "config = configparser.ConfigParser()\n",
    "config.read('config.ini')\n",
    "\n",
    "host = config['myaws']['host']\n",
    "db = config['myaws']['db']\n",
    "user = config['myaws']['user']\n",
    "pwd = config['myaws']['pwd']"
   ]
  },
  {
   "cell_type": "code",
   "execution_count": 21,
   "id": "a5851de5",
   "metadata": {},
   "outputs": [],
   "source": [
    "conn = psycopg2.connect(host = host,\n",
    "                       user = user,\n",
    "                        password = pwd,\n",
    "                        dbname = db\n",
    "                       )\n",
    "cur = conn.cursor()"
   ]
  },
  {
   "cell_type": "markdown",
   "id": "d88e703b",
   "metadata": {},
   "source": [
    "## create the hosue table"
   ]
  },
  {
   "cell_type": "markdown",
   "id": "b20ec59c",
   "metadata": {},
   "source": [
    "make sure change the schema name to your gp number"
   ]
  },
  {
   "cell_type": "code",
   "execution_count": 4,
   "id": "55927f47",
   "metadata": {},
   "outputs": [],
   "source": [
    "\n",
    "\n",
    "# replace the schema and table name to your schema and table name\n",
    "table_sql = \"\"\"\n",
    "            CREATE TABLE IF NOT EXISTS gp12.house\n",
    "            (\n",
    "\n",
    "                price integer,\n",
    "                bed integer,\n",
    "                bath integer,\n",
    "                area integer,\n",
    "                address VARCHAR(200),\n",
    "                PRIMARY KEY(address)\n",
    "            );\n",
    "\n",
    "            \"\"\"\n",
    "\n"
   ]
  },
  {
   "cell_type": "markdown",
   "id": "8cae6d31",
   "metadata": {},
   "source": [
    "use the bellow cell only if you want to delete the table"
   ]
  },
  {
   "cell_type": "code",
   "execution_count": 117,
   "id": "24f7d1f5",
   "metadata": {},
   "outputs": [],
   "source": [
    "#conn.rollback()\n",
    "#table_sql=\"drop table if exists demo.house\""
   ]
  },
  {
   "cell_type": "code",
   "execution_count": 5,
   "id": "12a52670",
   "metadata": {},
   "outputs": [],
   "source": [
    "\n",
    "cur.execute(table_sql)\n",
    "conn.commit()"
   ]
  },
  {
   "cell_type": "markdown",
   "id": "ab17b28a",
   "metadata": {},
   "source": [
    "## define the search region"
   ]
  },
  {
   "cell_type": "code",
   "execution_count": 27,
   "id": "79d05813",
   "metadata": {},
   "outputs": [],
   "source": [
    "url = 'https://www.trulia.com/MA/Middleton/01949/'"
   ]
  },
  {
   "cell_type": "code",
   "execution_count": 28,
   "id": "70af2a19",
   "metadata": {},
   "outputs": [],
   "source": [
    "\n",
    "\n",
    "import urllib.request\n",
    "response = urllib.request.urlopen(url)\n",
    "html_data= response.read()\n",
    "# print(html_data.decode('utf-8'))\n",
    "\n"
   ]
  },
  {
   "cell_type": "code",
   "execution_count": 29,
   "id": "4ad73c65",
   "metadata": {
    "scrolled": true
   },
   "outputs": [],
   "source": [
    "\n",
    "\n",
    "from bs4 import BeautifulSoup\n",
    "soup = BeautifulSoup(html_data,'html.parser')\n",
    "# print (soup)\n",
    "\n"
   ]
  },
  {
   "cell_type": "markdown",
   "id": "6dd94f7b",
   "metadata": {},
   "source": [
    "## insert the records into database"
   ]
  },
  {
   "cell_type": "code",
   "execution_count": 30,
   "id": "bb6aab9b",
   "metadata": {},
   "outputs": [],
   "source": [
    "\n",
    "for li_class in soup.find_all('li', class_ = 'Grid__CellBox-sc-144isrp-0 SearchResultsList__WideCell-b7y9ki-2 jiZmPM'):\n",
    "    try:\n",
    "        for price_div in li_class.find_all('div',{'data-testid':'property-price'}):\n",
    "            price =int(price_div.text.replace('$','').replace(\",\",\"\"))\n",
    "        for bed_div in li_class.find_all('div', {'data-testid':'property-beds'}):\n",
    "            bed= int(bed_div.text.replace('bd','').replace(\",\",\"\"))\n",
    "        for bath_div in li_class.find_all('div',{'data-testid':'property-baths'}):\n",
    "            bath =int(bath_div.text.replace('ba','').replace(\",\",\"\"))\n",
    "        for area_div in li_class.find_all('div',{'data-testid':'property-floorSpace'}):\n",
    "            area=int(area_div.text.split('sqft')[0].replace(\",\",\"\"))\n",
    "        for address_div in li_class.find_all('div',{'data-testid':'property-address'}):\n",
    "            address =address_div.text\n",
    "\n",
    "        try:\n",
    "            sql_insert = \"\"\"\n",
    "                        insert into gp12.house(price,bed,bath,area,address)\n",
    "                        values('{}','{}','{}','{}','{}')            \n",
    "                        \"\"\".format(price,bed,bath,area,address)\n",
    "\n",
    "            cur.execute(sql_insert)\n",
    "            conn.commit()\n",
    "        except:\n",
    "            conn.rollback()\n",
    "    except:\n",
    "        pass\n",
    "        "
   ]
  },
  {
   "cell_type": "markdown",
   "id": "a79a2cde",
   "metadata": {},
   "source": [
    "## Query the Table"
   ]
  },
  {
   "cell_type": "code",
   "execution_count": 31,
   "id": "21c1fadd",
   "metadata": {},
   "outputs": [
    {
     "data": {
      "text/html": [
       "<div>\n",
       "<style scoped>\n",
       "    .dataframe tbody tr th:only-of-type {\n",
       "        vertical-align: middle;\n",
       "    }\n",
       "\n",
       "    .dataframe tbody tr th {\n",
       "        vertical-align: top;\n",
       "    }\n",
       "\n",
       "    .dataframe thead th {\n",
       "        text-align: right;\n",
       "    }\n",
       "</style>\n",
       "<table border=\"1\" class=\"dataframe\">\n",
       "  <thead>\n",
       "    <tr style=\"text-align: right;\">\n",
       "      <th></th>\n",
       "      <th>price</th>\n",
       "      <th>bed</th>\n",
       "      <th>bath</th>\n",
       "      <th>area</th>\n",
       "      <th>address</th>\n",
       "    </tr>\n",
       "  </thead>\n",
       "  <tbody>\n",
       "    <tr>\n",
       "      <th>0</th>\n",
       "      <td>349000</td>\n",
       "      <td>3</td>\n",
       "      <td>3</td>\n",
       "      <td>1647</td>\n",
       "      <td>2844 Cullison Ct, Rockingham, VA 22801</td>\n",
       "    </tr>\n",
       "    <tr>\n",
       "      <th>1</th>\n",
       "      <td>199900</td>\n",
       "      <td>4</td>\n",
       "      <td>1</td>\n",
       "      <td>1285</td>\n",
       "      <td>786 Foley Rd, Harrisonburg, VA 22801</td>\n",
       "    </tr>\n",
       "    <tr>\n",
       "      <th>2</th>\n",
       "      <td>429000</td>\n",
       "      <td>4</td>\n",
       "      <td>3</td>\n",
       "      <td>2392</td>\n",
       "      <td>1038 James Pl, Harrisonburg, VA 22801</td>\n",
       "    </tr>\n",
       "    <tr>\n",
       "      <th>3</th>\n",
       "      <td>587000</td>\n",
       "      <td>3</td>\n",
       "      <td>2</td>\n",
       "      <td>2378</td>\n",
       "      <td>131 Cadogan Ct, Rockingham, VA 22801</td>\n",
       "    </tr>\n",
       "    <tr>\n",
       "      <th>4</th>\n",
       "      <td>255000</td>\n",
       "      <td>2</td>\n",
       "      <td>1</td>\n",
       "      <td>1182</td>\n",
       "      <td>120 Garbers Church Rd, Harrisonburg, VA 22801</td>\n",
       "    </tr>\n",
       "    <tr>\n",
       "      <th>...</th>\n",
       "      <td>...</td>\n",
       "      <td>...</td>\n",
       "      <td>...</td>\n",
       "      <td>...</td>\n",
       "      <td>...</td>\n",
       "    </tr>\n",
       "    <tr>\n",
       "      <th>87</th>\n",
       "      <td>192900</td>\n",
       "      <td>6</td>\n",
       "      <td>5</td>\n",
       "      <td>6049</td>\n",
       "      <td>Lot-20B Wildmeadow Rd, Boxford, MA 01921</td>\n",
       "    </tr>\n",
       "    <tr>\n",
       "      <th>88</th>\n",
       "      <td>899900</td>\n",
       "      <td>4</td>\n",
       "      <td>4</td>\n",
       "      <td>3084</td>\n",
       "      <td>208 Rowley Bridge Rd, Topsfield, MA 01983</td>\n",
       "    </tr>\n",
       "    <tr>\n",
       "      <th>89</th>\n",
       "      <td>175000</td>\n",
       "      <td>2</td>\n",
       "      <td>1</td>\n",
       "      <td>1000</td>\n",
       "      <td>466 Newbury St #22, Danvers, MA 01923</td>\n",
       "    </tr>\n",
       "    <tr>\n",
       "      <th>90</th>\n",
       "      <td>850000</td>\n",
       "      <td>4</td>\n",
       "      <td>4</td>\n",
       "      <td>3080</td>\n",
       "      <td>9 Pine St, Peabody, MA 01960</td>\n",
       "    </tr>\n",
       "    <tr>\n",
       "      <th>91</th>\n",
       "      <td>2850000</td>\n",
       "      <td>6</td>\n",
       "      <td>5</td>\n",
       "      <td>6362</td>\n",
       "      <td>15 Mansion Dr, Topsfield, MA 01983</td>\n",
       "    </tr>\n",
       "  </tbody>\n",
       "</table>\n",
       "<p>92 rows × 5 columns</p>\n",
       "</div>"
      ],
      "text/plain": [
       "      price  bed  bath  area                                        address\n",
       "0    349000    3     3  1647         2844 Cullison Ct, Rockingham, VA 22801\n",
       "1    199900    4     1  1285           786 Foley Rd, Harrisonburg, VA 22801\n",
       "2    429000    4     3  2392          1038 James Pl, Harrisonburg, VA 22801\n",
       "3    587000    3     2  2378           131 Cadogan Ct, Rockingham, VA 22801\n",
       "4    255000    2     1  1182  120 Garbers Church Rd, Harrisonburg, VA 22801\n",
       "..      ...  ...   ...   ...                                            ...\n",
       "87   192900    6     5  6049       Lot-20B Wildmeadow Rd, Boxford, MA 01921\n",
       "88   899900    4     4  3084      208 Rowley Bridge Rd, Topsfield, MA 01983\n",
       "89   175000    2     1  1000          466 Newbury St #22, Danvers, MA 01923\n",
       "90   850000    4     4  3080                   9 Pine St, Peabody, MA 01960\n",
       "91  2850000    6     5  6362             15 Mansion Dr, Topsfield, MA 01983\n",
       "\n",
       "[92 rows x 5 columns]"
      ]
     },
     "execution_count": 31,
     "metadata": {},
     "output_type": "execute_result"
    }
   ],
   "source": [
    "df = pandas.read_sql_query('select * from gp12.house ', conn)\n",
    "df[:]"
   ]
  },
  {
   "cell_type": "markdown",
   "id": "c2b44a5b",
   "metadata": {},
   "source": [
    "## basic stat"
   ]
  },
  {
   "cell_type": "code",
   "execution_count": 32,
   "id": "2fe7b83d",
   "metadata": {},
   "outputs": [
    {
     "data": {
      "text/html": [
       "<div>\n",
       "<style scoped>\n",
       "    .dataframe tbody tr th:only-of-type {\n",
       "        vertical-align: middle;\n",
       "    }\n",
       "\n",
       "    .dataframe tbody tr th {\n",
       "        vertical-align: top;\n",
       "    }\n",
       "\n",
       "    .dataframe thead th {\n",
       "        text-align: right;\n",
       "    }\n",
       "</style>\n",
       "<table border=\"1\" class=\"dataframe\">\n",
       "  <thead>\n",
       "    <tr style=\"text-align: right;\">\n",
       "      <th></th>\n",
       "      <th>price</th>\n",
       "      <th>bed</th>\n",
       "      <th>bath</th>\n",
       "      <th>area</th>\n",
       "    </tr>\n",
       "  </thead>\n",
       "  <tbody>\n",
       "    <tr>\n",
       "      <th>count</th>\n",
       "      <td>9.200000e+01</td>\n",
       "      <td>92.000000</td>\n",
       "      <td>92.000000</td>\n",
       "      <td>92.000000</td>\n",
       "    </tr>\n",
       "    <tr>\n",
       "      <th>mean</th>\n",
       "      <td>6.786954e+05</td>\n",
       "      <td>3.652174</td>\n",
       "      <td>3.228261</td>\n",
       "      <td>2854.467391</td>\n",
       "    </tr>\n",
       "    <tr>\n",
       "      <th>std</th>\n",
       "      <td>5.720922e+05</td>\n",
       "      <td>1.787839</td>\n",
       "      <td>1.840349</td>\n",
       "      <td>1719.925180</td>\n",
       "    </tr>\n",
       "    <tr>\n",
       "      <th>min</th>\n",
       "      <td>5.000000e+04</td>\n",
       "      <td>1.000000</td>\n",
       "      <td>1.000000</td>\n",
       "      <td>596.000000</td>\n",
       "    </tr>\n",
       "    <tr>\n",
       "      <th>25%</th>\n",
       "      <td>3.292500e+05</td>\n",
       "      <td>3.000000</td>\n",
       "      <td>2.000000</td>\n",
       "      <td>1633.250000</td>\n",
       "    </tr>\n",
       "    <tr>\n",
       "      <th>50%</th>\n",
       "      <td>5.525000e+05</td>\n",
       "      <td>3.000000</td>\n",
       "      <td>3.000000</td>\n",
       "      <td>2420.000000</td>\n",
       "    </tr>\n",
       "    <tr>\n",
       "      <th>75%</th>\n",
       "      <td>8.500000e+05</td>\n",
       "      <td>4.000000</td>\n",
       "      <td>4.000000</td>\n",
       "      <td>3692.500000</td>\n",
       "    </tr>\n",
       "    <tr>\n",
       "      <th>max</th>\n",
       "      <td>3.250000e+06</td>\n",
       "      <td>15.000000</td>\n",
       "      <td>16.000000</td>\n",
       "      <td>8759.000000</td>\n",
       "    </tr>\n",
       "  </tbody>\n",
       "</table>\n",
       "</div>"
      ],
      "text/plain": [
       "              price        bed       bath         area\n",
       "count  9.200000e+01  92.000000  92.000000    92.000000\n",
       "mean   6.786954e+05   3.652174   3.228261  2854.467391\n",
       "std    5.720922e+05   1.787839   1.840349  1719.925180\n",
       "min    5.000000e+04   1.000000   1.000000   596.000000\n",
       "25%    3.292500e+05   3.000000   2.000000  1633.250000\n",
       "50%    5.525000e+05   3.000000   3.000000  2420.000000\n",
       "75%    8.500000e+05   4.000000   4.000000  3692.500000\n",
       "max    3.250000e+06  15.000000  16.000000  8759.000000"
      ]
     },
     "execution_count": 32,
     "metadata": {},
     "output_type": "execute_result"
    }
   ],
   "source": [
    "df.describe()"
   ]
  },
  {
   "cell_type": "markdown",
   "id": "7f5ce399",
   "metadata": {},
   "source": [
    "## price distribution"
   ]
  },
  {
   "cell_type": "code",
   "execution_count": 33,
   "id": "297f41b5",
   "metadata": {},
   "outputs": [
    {
     "data": {
      "text/plain": [
       "<AxesSubplot:>"
      ]
     },
     "execution_count": 33,
     "metadata": {},
     "output_type": "execute_result"
    },
    {
     "data": {
      "image/png": "[encoded data removed]",
      "text/plain": [
       "<Figure size 432x288 with 1 Axes>"
      ]
     },
     "metadata": {
      "needs_background": "light"
     },
     "output_type": "display_data"
    }
   ],
   "source": [
    "df['price'].hist()"
   ]
  },
  {
   "cell_type": "markdown",
   "id": "288eafba",
   "metadata": {},
   "source": [
    "## bed vs bath"
   ]
  },
  {
   "cell_type": "code",
   "execution_count": 34,
   "id": "8fbe53db",
   "metadata": {},
   "outputs": [
    {
     "data": {
      "text/plain": [
       "<AxesSubplot:xlabel='bed', ylabel='bath'>"
      ]
     },
     "execution_count": 34,
     "metadata": {},
     "output_type": "execute_result"
    },
    {
     "data": {
      "image/png": "[encoded data removed]",
      "text/plain": [
       "<Figure size 432x288 with 1 Axes>"
      ]
     },
     "metadata": {
      "needs_background": "light"
     },
     "output_type": "display_data"
    }
   ],
   "source": [
    "df.plot.scatter(x='bed',y='bath')"
   ]
  },
  {
   "cell_type": "code",
   "execution_count": null,
   "id": "61215ce0",
   "metadata": {},
   "outputs": [],
   "source": []
  }
 ],
 "metadata": {
  "kernelspec": {
   "display_name": "conda_python3",
   "language": "python",
   "name": "conda_python3"
  },
  "language_info": {
   "codemirror_mode": {
    "name": "ipython",
    "version": 3
   },
   "file_extension": ".py",
   "mimetype": "text/x-python",
   "name": "python",
   "nbconvert_exporter": "python",
   "pygments_lexer": "ipython3",
   "version": "3.6.13"
  }
 },
 "nbformat": 4,
 "nbformat_minor": 5
}
